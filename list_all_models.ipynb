{
 "cells": [
  {
   "cell_type": "markdown",
   "id": "9dc88a9e",
   "metadata": {},
   "source": [
    "## Run all cells to get a list of models"
   ]
  },
  {
   "cell_type": "code",
   "execution_count": 1,
   "id": "a76457a3",
   "metadata": {},
   "outputs": [],
   "source": [
    "import openai\n",
    "import os\n",
    "from dotenv import load_dotenv\n"
   ]
  },
  {
   "cell_type": "code",
   "execution_count": 6,
   "id": "184132ba",
   "metadata": {},
   "outputs": [],
   "source": [
    "load_dotenv()\n",
    "k = os.getenv('OPENAI_API_KEY')\n",
    "k = open('temp_folder/api_key.txt').read()"
   ]
  },
  {
   "cell_type": "code",
   "execution_count": 7,
   "id": "4c5c513e",
   "metadata": {},
   "outputs": [],
   "source": [
    "import requests\n",
    "endpoint = \"https://api.openai.com/v1/models\"\n",
    "headers = {\"Authorization\": f\"Bearer {k}\"}\n",
    "\n",
    "j = requests.get(endpoint, headers=headers).json()"
   ]
  },
  {
   "cell_type": "code",
   "execution_count": 9,
   "id": "d2e8f827",
   "metadata": {},
   "outputs": [
    {
     "data": {
      "text/plain": [
       "['ada',\n",
       " 'ada-code-search-code',\n",
       " 'ada-code-search-text',\n",
       " 'ada-search-document',\n",
       " 'ada-search-query',\n",
       " 'ada-similarity',\n",
       " 'ada:2020-05-03',\n",
       " 'babbage',\n",
       " 'babbage-code-search-code',\n",
       " 'babbage-code-search-text',\n",
       " 'babbage-search-document',\n",
       " 'babbage-search-query',\n",
       " 'babbage-similarity',\n",
       " 'babbage:2020-05-03',\n",
       " 'code-davinci-edit-001',\n",
       " 'code-search-ada-code-001',\n",
       " 'code-search-ada-text-001',\n",
       " 'code-search-babbage-code-001',\n",
       " 'code-search-babbage-text-001',\n",
       " 'curie',\n",
       " 'curie-instruct-beta',\n",
       " 'curie-search-document',\n",
       " 'curie-search-query',\n",
       " 'curie-similarity',\n",
       " 'curie:2020-05-03',\n",
       " 'cushman:2020-05-03',\n",
       " 'davinci',\n",
       " 'davinci-if:3.0.0',\n",
       " 'davinci-instruct-beta',\n",
       " 'davinci-instruct-beta:2.0.0',\n",
       " 'davinci-search-document',\n",
       " 'davinci-search-query',\n",
       " 'davinci-similarity',\n",
       " 'davinci:2020-05-03',\n",
       " 'gpt-3.5-turbo',\n",
       " 'gpt-3.5-turbo-0301',\n",
       " 'if-curie-v2',\n",
       " 'if-davinci-v2',\n",
       " 'if-davinci:3.0.0',\n",
       " 'text-ada-001',\n",
       " 'text-ada:001',\n",
       " 'text-babbage-001',\n",
       " 'text-babbage:001',\n",
       " 'text-curie-001',\n",
       " 'text-curie:001',\n",
       " 'text-davinci-001',\n",
       " 'text-davinci-002',\n",
       " 'text-davinci-003',\n",
       " 'text-davinci-edit-001',\n",
       " 'text-davinci:001',\n",
       " 'text-embedding-ada-002',\n",
       " 'text-search-ada-doc-001',\n",
       " 'text-search-ada-query-001',\n",
       " 'text-search-babbage-doc-001',\n",
       " 'text-search-babbage-query-001',\n",
       " 'text-search-curie-doc-001',\n",
       " 'text-search-curie-query-001',\n",
       " 'text-search-davinci-doc-001',\n",
       " 'text-search-davinci-query-001',\n",
       " 'text-similarity-ada-001',\n",
       " 'text-similarity-babbage-001',\n",
       " 'text-similarity-curie-001',\n",
       " 'text-similarity-davinci-001',\n",
       " 'whisper-1']"
      ]
     },
     "execution_count": 9,
     "metadata": {},
     "output_type": "execute_result"
    }
   ],
   "source": [
    "sorted([v['id'] for v in j['data']])"
   ]
  },
  {
   "cell_type": "code",
   "execution_count": 5,
   "id": "f777a6e1",
   "metadata": {},
   "outputs": [
    {
     "data": {
      "text/plain": [
       "{'error': {'message': 'Incorrect API key provided: sk-w60mF***************************************gYrr. You can find your API key at https://platform.openai.com/account/api-keys.',\n",
       "  'type': 'invalid_request_error',\n",
       "  'param': None,\n",
       "  'code': 'invalid_api_key'}}"
      ]
     },
     "execution_count": 5,
     "metadata": {},
     "output_type": "execute_result"
    }
   ],
   "source": [
    "j"
   ]
  },
  {
   "cell_type": "code",
   "execution_count": null,
   "id": "cc1309f9",
   "metadata": {},
   "outputs": [],
   "source": []
  }
 ],
 "metadata": {
  "kernelspec": {
   "display_name": "Python 3",
   "language": "python",
   "name": "python3"
  },
  "language_info": {
   "codemirror_mode": {
    "name": "ipython",
    "version": 3
   },
   "file_extension": ".py",
   "mimetype": "text/x-python",
   "name": "python",
   "nbconvert_exporter": "python",
   "pygments_lexer": "ipython3",
   "version": "3.6.5"
  }
 },
 "nbformat": 4,
 "nbformat_minor": 5
}
