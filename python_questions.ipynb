{
 "cells": [
  {
   "cell_type": "markdown",
   "id": "9ce4cc26",
   "metadata": {},
   "source": [
    "### Ask the GPT API a set of Python Programming Questions \n",
    "##### (some from https://www.geeksforgeeks.org/python-programming-examples/)\n",
    "\n",
    "#### Installation:\n",
    "Using python 3.9+\n",
    "1. Create a new Virtualenvs environment using venv (or something similar)\n",
    "2. From a bash terminal run:\n",
    "  * source your_virtual_env_folder_path/bin/activate\n",
    "  * pip install -r your_project_folder/requirements.txt\n",
    "\n",
    "#### To Run:\n",
    "1. Make sure you put a valid OpenAI API key in the file ```temp_folder/api_key.txt```\n",
    "2. Run all cells in this notebook\n",
    "\n",
    "#### Output:\n",
    "In the folder ```temp_folder```, there will be 2 files:\n",
    "1. ```programing_question_responses.json```: This file contains the full json output from GPT for all 129 programming questions\n",
    "2. ```code_snippits.txt```: This file has just the question text and the response text"
   ]
  },
  {
   "cell_type": "code",
   "execution_count": 34,
   "id": "494bd4f8",
   "metadata": {},
   "outputs": [],
   "source": [
    "import pandas as pd\n",
    "import numpy as np\n",
    "import json\n",
    "import openai\n",
    "import os\n",
    "import tqdm\n",
    "from IPython.display import display\n",
    "openai.api_key = open('temp_folder/api_key.txt').read()\n",
    "price_per_1k_tokens = 0.002\n"
   ]
  },
  {
   "cell_type": "markdown",
   "id": "7c032731",
   "metadata": {},
   "source": [
    "### Get all questions from the file ```python_questions.txt```"
   ]
  },
  {
   "cell_type": "code",
   "execution_count": 3,
   "id": "a23c1228",
   "metadata": {},
   "outputs": [
    {
     "data": {
      "text/plain": [
       "['Write a python  program to check if a string is palindrome or not',\n",
       " 'Using python Reverse words in a given String ',\n",
       " 'Using python find Ways to remove i’th character from string ',\n",
       " 'Using python Check if a Substring is Present in a Given String',\n",
       " 'Using python find Find length of a string in python (4 ways)',\n",
       " 'Write a python  program to print even length words in a string',\n",
       " 'Write a python Program to accept the strings which contains all vowels',\n",
       " 'Using python Count the Number of matching characters in a pair of string',\n",
       " 'Write a python  program to count number of vowels using sets in given string',\n",
       " 'Using python Remove all duplicates from a given string ',\n",
       " 'Write a python Program to check if a string contains any special character',\n",
       " 'Using python Generating random strings until a given string is generated',\n",
       " 'Using python Find words which are greater than given length k',\n",
       " 'Write a python  program for removing i-th character from a string',\n",
       " 'Write a python  program to split and join a string',\n",
       " 'Using python Check if a given string is binary string or not',\n",
       " 'Using python Find all close matches of input string from a list',\n",
       " 'Write a python  program to find uncommon words from two Strings',\n",
       " 'Using python Swap commas and dots in a String',\n",
       " 'Using python Permutation of a given string using inbuilt function',\n",
       " 'Using python Check for URL in a String',\n",
       " 'Using python Execute a String of Code ',\n",
       " 'Using python String slicing  to rotate a string',\n",
       " 'Using python String slicing  to check if a string can become empty by recursive deletion',\n",
       " 'Using python  Counter| Find all duplicate characters in string',\n",
       " 'Write a python  program to add two numbers',\n",
       " 'Write a python  Program for factorial of a number',\n",
       " 'Write a python  Program for simple interest',\n",
       " 'Write a python  Program for compound interest',\n",
       " 'Write a python  Program to check Armstrong Number',\n",
       " 'Write a python  Program  to find area of a circle',\n",
       " 'Write a python  program to print all Prime numbers in an Interval',\n",
       " 'Write a python  program to check whether a number is Prime or not',\n",
       " 'Write a python  Program for n-th Fibonacci number',\n",
       " 'Write a python  Program for Fibonacci numbers',\n",
       " 'Write a python  Program for How to check if a given number is Fibonacci number?',\n",
       " 'Write a python  Program for n\\\\’th multiple of a number in Fibonacci Series',\n",
       " 'Write a python Program to print ASCII Value of a character',\n",
       " 'Write a python  Program for Sum of squares of first n natural numbers',\n",
       " 'Write a python  Program for cube sum of first n natural numbers',\n",
       " 'Write a python  Program to find sum of array',\n",
       " 'Write a python  Program to find largest element in an array',\n",
       " 'Write a python  Program for array rotation',\n",
       " 'Write a python  Program for Reversal algorithm for array rotation',\n",
       " 'Write a python  Program to Split the array and add the first part to the end',\n",
       " 'Write a python  Program for Find reminder of array multiplication divided by n',\n",
       " 'Using python Reconstruct the array by replacing arr[i] with (arr[i-1]+1) % M',\n",
       " 'Write a python  Program to check if given array is Monotonic',\n",
       " 'Write a python  program to interchange first and last elements in a list',\n",
       " 'Write a python  program to swap two elements in a list',\n",
       " 'Write a python  program to remove Nth occurrence of the given word',\n",
       " 'Using python find Ways to find length of list',\n",
       " 'Using python find Ways to check if element exists in list',\n",
       " 'Using python find Different ways to clear a list ',\n",
       " 'Using python Reversing a List',\n",
       " 'Using python Cloning or Copying a list',\n",
       " 'Using python Count occurrences of an element in a list',\n",
       " 'Write a python  program to find sum of elements in list',\n",
       " 'Using python Multiply all numbers in the list',\n",
       " 'Write a python  program to find smallest number in a list',\n",
       " 'Write a python  program to find largest number in a list',\n",
       " 'Write a python  program to find second largest number in a list',\n",
       " 'Write a python  program to find N largest elements from a list',\n",
       " 'Write a python  program to print even numbers in a list',\n",
       " 'Write a python  program to print odd numbers in a List',\n",
       " 'Write a python  program to print all even numbers in a range',\n",
       " 'Write a python  program to print all odd numbers in a range',\n",
       " 'Write a python  program to count Even and Odd numbers in a List',\n",
       " 'Write a python  program to print positive numbers in a list',\n",
       " 'Write a python  program to print negative numbers in a list',\n",
       " 'Write a python  program to print all positive numbers in a range',\n",
       " 'Write a python  program to print all negative numbers in a range',\n",
       " 'Write a python  program to count positive and negative numbers in a list',\n",
       " 'Using python Remove multiple elements from a list ',\n",
       " 'Using python Remove empty tuples from a list',\n",
       " 'Write a python Program to print duplicates from a list of integers',\n",
       " 'Write a python  program to find Cumulative sum of a list',\n",
       " 'Using python Break a list into chunks of size N ',\n",
       " 'Using python Sort the values of first list using second list',\n",
       " 'Using python Sort  Dictionaries by Key or Value',\n",
       " 'Using python Handling missing keys  dictionaries',\n",
       " 'Using python  dictionary with keys having multiple inputs',\n",
       " 'Write a python  program to find the sum of all items in a dictionary',\n",
       " 'Using python find Ways to remove a key from dictionary',\n",
       " 'Using python find Ways to sort list of dictionaries by values  – Using itemgetter',\n",
       " 'Using python find Ways to sort list of dictionaries by values  – Using lambda function',\n",
       " 'Using python Merging two Dictionaries',\n",
       " 'Write a python Program to create grade calculator ',\n",
       " 'Using python Check order of character in string using OrderedDict( )',\n",
       " 'Using python Find common elements in three sorted arrays by dictionary intersection',\n",
       " 'Using python Dictionary and counter  to find winner of election',\n",
       " 'Using python Find all duplicate characters in string',\n",
       " 'Using python Print anagrams together  using List and Dictionary',\n",
       " 'Using python K’th Non-repeating Character  using List Comprehension and OrderedDict',\n",
       " 'Using python Check if binary representations of two numbers are anagram',\n",
       " 'Using python  Counter to find the size of largest subset of anagram words',\n",
       " 'Using python Remove all duplicates words from a given sentence',\n",
       " 'Using python  Dictionary to find mirror characters in a string',\n",
       " 'Using python Counting the frequencies in a list using dictionary ',\n",
       " 'Using python Convert a list of Tuples into Dictionary',\n",
       " 'Using python  counter and dictionary intersection example (Make a string using deletion and rearrangement)',\n",
       " 'Using python  dictionary, set and counter to check if frequencies can become same',\n",
       " 'Using python Scraping And Finding Ordered Words In A Dictionary using ',\n",
       " 'Using python Possible Words using given characters ',\n",
       " 'Using python Create a list of tuples from given list having number and its cube in each tuple',\n",
       " 'Using python Sort a list of tuples by second Item',\n",
       " 'Write a python  Program for Binary Search (Recursive and Iterative)',\n",
       " 'Write a python  Program for Linear Search',\n",
       " 'Write a python  Program for Insertion Sort',\n",
       " 'Write a python  Program for Recursive Insertion Sort',\n",
       " 'Write a python  Program for Iterative Quick Sort',\n",
       " 'Write a python  Program for Selection Sort',\n",
       " 'Write a python  Program for Bubble Sort',\n",
       " 'Write a python  Program for Merge Sort',\n",
       " 'Write a python  Program for Iterative Merge Sort',\n",
       " 'Write a python  Program for Heap Sort',\n",
       " 'Write a python  Program for Counting Sort',\n",
       " 'Write a python  Program for Topological Sorting',\n",
       " 'Write a python  Program for Radix Sort',\n",
       " 'Write a python  Program for Binary Insertion Sort',\n",
       " 'Write a python  Program for Bitonic Sort',\n",
       " 'Write a python  Program for Comb Sort',\n",
       " 'Write a python  Program for Pigeonhole Sort',\n",
       " 'Write a python  Program for Cocktail Sort',\n",
       " 'Write a python  Program for Gnome Sort',\n",
       " 'Write a python  Program for Odd-Even Sort / Brick Sort',\n",
       " 'Write a python  Program for BogoSort or Permutation Sort',\n",
       " 'Write a python  Program for Cycle Sort',\n",
       " 'Write a python  Program for Stooge Sort']"
      ]
     },
     "execution_count": 3,
     "metadata": {},
     "output_type": "execute_result"
    }
   ],
   "source": [
    "lines = open('python_questions.txt','r').read().split('\\n')\n",
    "lines = [\n",
    "    ' '.join(l.strip().split()[1:]).replace('in Python','').replace('Python','').replace('for Program','') for l in lines\n",
    "    if len(l.strip().split())>5\n",
    "]\n",
    "lines = [l.replace(' | ','') for l in lines]\n",
    "for i in range(len(lines)):\n",
    "    if 'program' in lines[i].lower():\n",
    "        if 'python' in lines[i].lower():\n",
    "            lines[i] = 'Write a ' + lines[i]\n",
    "        else:\n",
    "            lines[i] = 'Write a python ' + lines[i]\n",
    "    elif 'ways' in lines[i].lower():\n",
    "        lines[i] = 'Using python find ' + lines[i]\n",
    "    else:\n",
    "        lines[i] = 'Using python ' + lines[i]\n",
    "lines\n"
   ]
  },
  {
   "cell_type": "markdown",
   "id": "bd047f8e",
   "metadata": {},
   "source": [
    "### Simple code to generate code from gpt model"
   ]
  },
  {
   "cell_type": "code",
   "execution_count": 17,
   "id": "1208154d",
   "metadata": {},
   "outputs": [],
   "source": [
    "def generate_code(task):\n",
    "    \"\"\"\n",
    "    Generates Python code based on a given task using the OpenAI API.\n",
    "    \"\"\"\n",
    "    response = openai.ChatCompletion.create(\n",
    "      model=\"gpt-3.5-turbo\",\n",
    "      messages=[\n",
    "            {\"role\": \"user\", \"content\": task},\n",
    "        ]\n",
    "    )    \n",
    "    return response\n",
    "\n"
   ]
  },
  {
   "cell_type": "markdown",
   "id": "c3286130",
   "metadata": {},
   "source": [
    "#### Run the model on all questions"
   ]
  },
  {
   "cell_type": "code",
   "execution_count": 18,
   "id": "14c1a8bf",
   "metadata": {},
   "outputs": [
    {
     "name": "stderr",
     "output_type": "stream",
     "text": [
      "100%|██████████████████████████████████████████████████████████████████████████████████████████████████████████████████████████| 129/129 [46:39<00:00, 21.70s/it]\n"
     ]
    }
   ],
   "source": [
    "code_snippits = {}\n",
    "for line in tqdm.tqdm(lines):\n",
    "    new_code = generate_code(line)\n",
    "#     print(new_code)\n",
    "#     c = input('continue (y/n)?')\n",
    "#     if c.lower()!='y':\n",
    "#         break\n",
    "    code_snippits[line] = new_code"
   ]
  },
  {
   "cell_type": "markdown",
   "id": "bf603b66",
   "metadata": {},
   "source": [
    "### Calculate the cost of this operation"
   ]
  },
  {
   "cell_type": "code",
   "execution_count": 21,
   "id": "9308ce86",
   "metadata": {},
   "outputs": [],
   "source": [
    "all_keys = list(code_snippits.keys())"
   ]
  },
  {
   "cell_type": "code",
   "execution_count": 29,
   "id": "b98ea712",
   "metadata": {},
   "outputs": [
    {
     "name": "stdout",
     "output_type": "stream",
     "text": [
      "Total cost for code completion of 129 answers to the programming questions = 0.073994\n"
     ]
    }
   ],
   "source": [
    "total_cost = sum([\n",
    "    int(v['usage']['total_tokens'])\n",
    "    for v in code_snippits.values()\n",
    "])/1000 * price_per_1k_tokens\n",
    "print(\n",
    "    f\"Total cost for code completion of {len(code_snippits)} answers to the programming questions = {total_cost}\")"
   ]
  },
  {
   "cell_type": "markdown",
   "id": "60d31b77",
   "metadata": {},
   "source": [
    "### Display a sample response from the gpt model"
   ]
  },
  {
   "cell_type": "code",
   "execution_count": 30,
   "id": "39bb90fe",
   "metadata": {},
   "outputs": [
    {
     "data": {
      "text/plain": [
       "<OpenAIObject chat.completion id=chatcmpl-7CTBcqHYAm6UteKRlRx2tAHdbjZ86 at 0x11e752130> JSON: {\n",
       "  \"choices\": [\n",
       "    {\n",
       "      \"finish_reason\": \"stop\",\n",
       "      \"index\": 0,\n",
       "      \"message\": {\n",
       "        \"content\": \"Here's a Python program to check if a string is palindrome or not:\\n\\n```python\\ndef is_palindrome(s):\\n    # Remove all non-alphanumeric characters and convert the string to lowercase\\n    s = ''.join(ch for ch in s if ch.isalnum()).lower()\\n    \\n    # Check if the reversed string is the same as the original string\\n    return s == s[::-1]\\n\\n# Test the function\\nprint(is_palindrome('A man, a plan, a canal: Panama'))  # True\\nprint(is_palindrome('race a car'))  # False\\n```\\n\\nIn this program, we define a function `is_palindrome` that takes a string as input and returns `True` if the string is a palindrome and `False` otherwise. To check if a string is a palindrome, we remove all non-alphanumeric characters (using the `isalnum` method) and convert the string to lowercase. Then we check if the reversed string is the same as the original string (using the `[::-1]` syntax to reverse the string). \\n\\nWe also test the `is_palindrome` function by calling it with two examples of strings. The first example should return `True` because the string \\\"A man, a plan, a canal: Panama\\\" is a palindrome when all non-alphanumeric characters are removed and the string is converted to lowercase. The second example should return `False` because the string \\\"race a car\\\" is not a palindrome when all non-alphanumeric characters are removed and the string is converted to lowercase.\",\n",
       "        \"role\": \"assistant\"\n",
       "      }\n",
       "    }\n",
       "  ],\n",
       "  \"created\": 1683206484,\n",
       "  \"id\": \"chatcmpl-7CTBcqHYAm6UteKRlRx2tAHdbjZ86\",\n",
       "  \"model\": \"gpt-3.5-turbo-0301\",\n",
       "  \"object\": \"chat.completion\",\n",
       "  \"usage\": {\n",
       "    \"completion_tokens\": 314,\n",
       "    \"prompt_tokens\": 22,\n",
       "    \"total_tokens\": 336\n",
       "  }\n",
       "}"
      ]
     },
     "execution_count": 30,
     "metadata": {},
     "output_type": "execute_result"
    }
   ],
   "source": [
    "code_snippits[all_keys[0]]"
   ]
  },
  {
   "cell_type": "markdown",
   "id": "c6de8adb",
   "metadata": {},
   "source": [
    "### Write all responses to a json file"
   ]
  },
  {
   "cell_type": "code",
   "execution_count": 33,
   "id": "2b904942",
   "metadata": {},
   "outputs": [],
   "source": [
    "json.dump(\n",
    "    code_snippits,\n",
    "    open('temp_folder/programing_question_responses.json','w')\n",
    ")"
   ]
  },
  {
   "cell_type": "markdown",
   "id": "c4d0491f",
   "metadata": {},
   "source": [
    "### Write all Questions and answer to a text file"
   ]
  },
  {
   "cell_type": "code",
   "execution_count": 77,
   "id": "03978e08",
   "metadata": {
    "scrolled": true
   },
   "outputs": [],
   "source": [
    "fname = 'temp_folder/code_snippits.txt'\n",
    "try:\n",
    "    open(fname, \"a\").truncate(0)\n",
    "except:\n",
    "    pass\n",
    "with open(fname,'w') as fp2:\n",
    "    for k in all_keys:\n",
    "        fp2.writelines(f\"\\n{'-'* len(k)}\\n\")\n",
    "        fp2.writelines(k)\n",
    "        fp2.writelines(f\"\\n{'-'* len(k)}\\n\\n\")\n",
    "        for cs in code_snippits[k]['choices']:\n",
    "            fp2.writelines(list(cs['message'].values())[1])    \n",
    "        fp2.writelines(f\"\\n{'-'* len(k)}\\n\\n\\n\")\n"
   ]
  }
 ],
 "metadata": {
  "kernelspec": {
   "display_name": "Python 3 (ipykernel)",
   "language": "python",
   "name": "python3"
  },
  "language_info": {
   "codemirror_mode": {
    "name": "ipython",
    "version": 3
   },
   "file_extension": ".py",
   "mimetype": "text/x-python",
   "name": "python",
   "nbconvert_exporter": "python",
   "pygments_lexer": "ipython3",
   "version": "3.9.5"
  }
 },
 "nbformat": 4,
 "nbformat_minor": 5
}
